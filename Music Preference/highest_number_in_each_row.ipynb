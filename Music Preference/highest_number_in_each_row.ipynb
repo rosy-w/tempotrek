{
  "nbformat": 4,
  "nbformat_minor": 0,
  "metadata": {
    "colab": {
      "provenance": [],
      "authorship_tag": "ABX9TyPuU2/GAwCi1c8N1oYNRhuy",
      "include_colab_link": true
    },
    "kernelspec": {
      "name": "python3",
      "display_name": "Python 3"
    },
    "language_info": {
      "name": "python"
    }
  },
  "cells": [
    {
      "cell_type": "markdown",
      "metadata": {
        "id": "view-in-github",
        "colab_type": "text"
      },
      "source": [
        "<a href=\"https://colab.research.google.com/github/rosywaruku/tempotrek/blob/master/Music%20Preference/highest_number_in_each_row.ipynb\" target=\"_parent\"><img src=\"https://colab.research.google.com/assets/colab-badge.svg\" alt=\"Open In Colab\"/></a>"
      ]
    },
    {
      "cell_type": "code",
      "execution_count": 20,
      "metadata": {
        "id": "BIY4Y0X_aFVZ"
      },
      "outputs": [],
      "source": [
        "import random\n",
        "import pandas as pd"
      ]
    },
    {
      "cell_type": "code",
      "source": [
        "from google.colab import drive\n",
        "drive.mount('/content/drive')"
      ],
      "metadata": {
        "colab": {
          "base_uri": "https://localhost:8080/"
        },
        "id": "2lPTxB_Zd7Aa",
        "outputId": "20b448f2-fbc9-4b3e-d1ac-e6c132c43282"
      },
      "execution_count": 21,
      "outputs": [
        {
          "output_type": "stream",
          "name": "stdout",
          "text": [
            "Drive already mounted at /content/drive; to attempt to forcibly remount, call drive.mount(\"/content/drive\", force_remount=True).\n"
          ]
        }
      ]
    },
    {
      "cell_type": "code",
      "source": [
        "# Load the data into a pandas dataframe\n",
        "df = pd.read_csv('/content/drive/MyDrive/Music_Genre/music_responses.csv')\n"
      ],
      "metadata": {
        "id": "3Kj8JcMWd5HC"
      },
      "execution_count": 22,
      "outputs": []
    },
    {
      "cell_type": "code",
      "source": [
        "#drop nan\n",
        "df = df.dropna()\n",
        "df.reset_index(drop=True)\n",
        "df.isnull().sum()"
      ],
      "metadata": {
        "colab": {
          "base_uri": "https://localhost:8080/"
        },
        "id": "lSDx8NvRe7Ac",
        "outputId": "a04eadc1-0d9e-4f19-fe81-737e6a579d00"
      },
      "execution_count": 23,
      "outputs": [
        {
          "output_type": "execute_result",
          "data": {
            "text/plain": [
              "Dance                0\n",
              "Folk                 0\n",
              "Country              0\n",
              "Classical music      0\n",
              "Musical              0\n",
              "Pop                  0\n",
              "Rock                 0\n",
              "Metal or Hardrock    0\n",
              "Punk                 0\n",
              "Hiphop, Rap          0\n",
              "Reggae, Ska          0\n",
              "Swing, Jazz          0\n",
              "Rock n roll          0\n",
              "Alternative          0\n",
              "Latino               0\n",
              "Techno, Trance       0\n",
              "Opera                0\n",
              "dtype: int64"
            ]
          },
          "metadata": {},
          "execution_count": 23
        }
      ]
    },
    {
      "cell_type": "code",
      "source": [
        "df.info()"
      ],
      "metadata": {
        "colab": {
          "base_uri": "https://localhost:8080/"
        },
        "id": "Gq2-987ZfXA7",
        "outputId": "8af51bd4-3ed2-4556-df1b-8c6dec50707a"
      },
      "execution_count": 24,
      "outputs": [
        {
          "output_type": "stream",
          "name": "stdout",
          "text": [
            "<class 'pandas.core.frame.DataFrame'>\n",
            "Int64Index: 936 entries, 0 to 1009\n",
            "Data columns (total 17 columns):\n",
            " #   Column             Non-Null Count  Dtype  \n",
            "---  ------             --------------  -----  \n",
            " 0   Dance              936 non-null    float64\n",
            " 1   Folk               936 non-null    float64\n",
            " 2   Country            936 non-null    float64\n",
            " 3   Classical music    936 non-null    float64\n",
            " 4   Musical            936 non-null    float64\n",
            " 5   Pop                936 non-null    float64\n",
            " 6   Rock               936 non-null    float64\n",
            " 7   Metal or Hardrock  936 non-null    float64\n",
            " 8   Punk               936 non-null    float64\n",
            " 9   Hiphop, Rap        936 non-null    float64\n",
            " 10  Reggae, Ska        936 non-null    float64\n",
            " 11  Swing, Jazz        936 non-null    float64\n",
            " 12  Rock n roll        936 non-null    float64\n",
            " 13  Alternative        936 non-null    float64\n",
            " 14  Latino             936 non-null    float64\n",
            " 15  Techno, Trance     936 non-null    float64\n",
            " 16  Opera              936 non-null    float64\n",
            "dtypes: float64(17)\n",
            "memory usage: 131.6 KB\n"
          ]
        }
      ]
    },
    {
      "cell_type": "code",
      "source": [
        "def find_max_column(row, choose_random=False):\n",
        "  # Find the highest value in the row\n",
        "  max_value = row.max()\n",
        "  # Find all the columns with the highest value\n",
        "  max_columns = row[row == max_value].index.tolist()\n",
        "  if choose_random:\n",
        "    # Choose a random column name from the list\n",
        "    max_column = random.choice(max_columns)\n",
        "  else:\n",
        "    # Join the column names with a comma and space separator\n",
        "    max_column = ', '.join(max_columns)\n",
        "  return max_column\n"
      ],
      "metadata": {
        "id": "Eu1l7rYgdw2G"
      },
      "execution_count": 25,
      "outputs": []
    },
    {
      "cell_type": "code",
      "source": [
        "# Create an empty list to store the results\n",
        "max_columns = []\n",
        "\n",
        "# Iterate through each row of the dataframe\n",
        "for index, row in df.iterrows():\n",
        "  # Find the column with the highest value in the row\n",
        "  max_column = find_max_column(row, choose_random=True)\n",
        "  # Add the column name to the list\n",
        "  max_columns.append(max_column)\n",
        "\n",
        "# Add the 'max_column' column to the dataframe\n",
        "df['Preference'] = max_columns\n",
        "\n",
        "# Save the updated dataframe to a new CSV file called 'result.csv'\n",
        "df.to_csv('/content/drive/MyDrive/Music_Genre/preference.csv', index=False)"
      ],
      "metadata": {
        "id": "VIabdlzteDEJ"
      },
      "execution_count": 26,
      "outputs": []
    }
  ]
}