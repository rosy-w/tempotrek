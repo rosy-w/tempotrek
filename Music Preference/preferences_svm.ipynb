{
  "nbformat": 4,
  "nbformat_minor": 0,
  "metadata": {
    "colab": {
      "provenance": [],
      "authorship_tag": "ABX9TyMTpSHK5Ejk26MeEhOXaM7/"
    },
    "kernelspec": {
      "name": "python3",
      "display_name": "Python 3"
    },
    "language_info": {
      "name": "python"
    }
  },
  "cells": [
    {
      "cell_type": "markdown",
      "source": [
        "#  INTRODUCTION"
      ],
      "metadata": {
        "_uuid": "e8d3350d8d257a02d795d71d5ae36941578c4c1a",
        "id": "7gzzwl9gAvBn"
      }
    },
    {
      "cell_type": "code",
      "source": [
        "import numpy as np # linear algebra\n",
        "import pandas as pd # data processing\n",
        "import matplotlib.pyplot as plt\n",
        "import seaborn as sns\n",
        "from sklearn.model_selection import train_test_split\n",
        "from sklearn.preprocessing import StandardScaler\n",
        "from sklearn import tree\n",
        "from sklearn.metrics import accuracy_score, f1_score\n",
        "from sklearn.svm import SVC"
      ],
      "metadata": {
        "_uuid": "8f2839f25d086af736a60e9eeb907d3b93b6e0e5",
        "_cell_guid": "b1076dfc-b9ad-4769-8c92-a6c4dae69d19",
        "execution": {
          "iopub.status.busy": "2022-12-18T20:42:18.222903Z",
          "iopub.execute_input": "2022-12-18T20:42:18.223351Z",
          "iopub.status.idle": "2022-12-18T20:42:18.229910Z",
          "shell.execute_reply.started": "2022-12-18T20:42:18.223279Z",
          "shell.execute_reply": "2022-12-18T20:42:18.228883Z"
        },
        "trusted": true,
        "id": "hLQFjvl5AvBx"
      },
      "execution_count": 32,
      "outputs": []
    },
    {
      "cell_type": "markdown",
      "source": [
        "# Loading the data"
      ],
      "metadata": {
        "id": "DiEE64oqAvBy"
      }
    },
    {
      "cell_type": "code",
      "source": [
        "from google.colab import drive\n",
        "drive.mount('/content/drive')"
      ],
      "metadata": {
        "colab": {
          "base_uri": "https://localhost:8080/"
        },
        "id": "bw5vz4epQboq",
        "outputId": "97c9c3f7-f2fe-4e38-f94d-0031fbdb6371"
      },
      "execution_count": 3,
      "outputs": [
        {
          "output_type": "stream",
          "name": "stdout",
          "text": [
            "Mounted at /content/drive\n"
          ]
        }
      ]
    },
    {
      "cell_type": "code",
      "source": [
        "%cd /content/drive/MyDrive/Music_Genre"
      ],
      "metadata": {
        "id": "q_PTjPVbBHE-",
        "colab": {
          "base_uri": "https://localhost:8080/"
        },
        "outputId": "2137a0b3-0815-4fbb-b233-73b5b83d1603"
      },
      "execution_count": 4,
      "outputs": [
        {
          "output_type": "stream",
          "name": "stdout",
          "text": [
            "/content/drive/MyDrive/Music_Genre\n"
          ]
        }
      ]
    },
    {
      "cell_type": "code",
      "source": [
        "df = pd.read_csv(\"user - preference.csv\")\n",
        "df.head()"
      ],
      "metadata": {
        "_cell_guid": "79c7e3d0-c299-4dcb-8224-4455121ee9b0",
        "_uuid": "d629ff2d2480ee46fbb7e2d37f6b5fab8052498a",
        "scrolled": true,
        "execution": {
          "iopub.status.busy": "2022-12-18T20:42:18.617919Z",
          "iopub.execute_input": "2022-12-18T20:42:18.618529Z",
          "iopub.status.idle": "2022-12-18T20:42:18.817854Z",
          "shell.execute_reply.started": "2022-12-18T20:42:18.618451Z",
          "shell.execute_reply": "2022-12-18T20:42:18.816785Z"
        },
        "trusted": true,
        "id": "OWXpgbmjAvBz",
        "outputId": "23c355ca-10ac-459d-a3d7-a2433f63d6cc",
        "colab": {
          "base_uri": "https://localhost:8080/",
          "height": 206
        }
      },
      "execution_count": 5,
      "outputs": [
        {
          "output_type": "execute_result",
          "data": {
            "text/plain": [
              "    Age  Gender   Preference\n",
              "0  20.0  female         Rock\n",
              "1  19.0  female         Rock\n",
              "2  20.0  female       Latino\n",
              "3  22.0  female  Alternative\n",
              "4  20.0  female  Hiphop, Rap"
            ],
            "text/html": [
              "\n",
              "  <div id=\"df-e37df8f6-5873-4ff2-99f9-bc43230ed93f\">\n",
              "    <div class=\"colab-df-container\">\n",
              "      <div>\n",
              "<style scoped>\n",
              "    .dataframe tbody tr th:only-of-type {\n",
              "        vertical-align: middle;\n",
              "    }\n",
              "\n",
              "    .dataframe tbody tr th {\n",
              "        vertical-align: top;\n",
              "    }\n",
              "\n",
              "    .dataframe thead th {\n",
              "        text-align: right;\n",
              "    }\n",
              "</style>\n",
              "<table border=\"1\" class=\"dataframe\">\n",
              "  <thead>\n",
              "    <tr style=\"text-align: right;\">\n",
              "      <th></th>\n",
              "      <th>Age</th>\n",
              "      <th>Gender</th>\n",
              "      <th>Preference</th>\n",
              "    </tr>\n",
              "  </thead>\n",
              "  <tbody>\n",
              "    <tr>\n",
              "      <th>0</th>\n",
              "      <td>20.0</td>\n",
              "      <td>female</td>\n",
              "      <td>Rock</td>\n",
              "    </tr>\n",
              "    <tr>\n",
              "      <th>1</th>\n",
              "      <td>19.0</td>\n",
              "      <td>female</td>\n",
              "      <td>Rock</td>\n",
              "    </tr>\n",
              "    <tr>\n",
              "      <th>2</th>\n",
              "      <td>20.0</td>\n",
              "      <td>female</td>\n",
              "      <td>Latino</td>\n",
              "    </tr>\n",
              "    <tr>\n",
              "      <th>3</th>\n",
              "      <td>22.0</td>\n",
              "      <td>female</td>\n",
              "      <td>Alternative</td>\n",
              "    </tr>\n",
              "    <tr>\n",
              "      <th>4</th>\n",
              "      <td>20.0</td>\n",
              "      <td>female</td>\n",
              "      <td>Hiphop, Rap</td>\n",
              "    </tr>\n",
              "  </tbody>\n",
              "</table>\n",
              "</div>\n",
              "      <button class=\"colab-df-convert\" onclick=\"convertToInteractive('df-e37df8f6-5873-4ff2-99f9-bc43230ed93f')\"\n",
              "              title=\"Convert this dataframe to an interactive table.\"\n",
              "              style=\"display:none;\">\n",
              "        \n",
              "  <svg xmlns=\"http://www.w3.org/2000/svg\" height=\"24px\"viewBox=\"0 0 24 24\"\n",
              "       width=\"24px\">\n",
              "    <path d=\"M0 0h24v24H0V0z\" fill=\"none\"/>\n",
              "    <path d=\"M18.56 5.44l.94 2.06.94-2.06 2.06-.94-2.06-.94-.94-2.06-.94 2.06-2.06.94zm-11 1L8.5 8.5l.94-2.06 2.06-.94-2.06-.94L8.5 2.5l-.94 2.06-2.06.94zm10 10l.94 2.06.94-2.06 2.06-.94-2.06-.94-.94-2.06-.94 2.06-2.06.94z\"/><path d=\"M17.41 7.96l-1.37-1.37c-.4-.4-.92-.59-1.43-.59-.52 0-1.04.2-1.43.59L10.3 9.45l-7.72 7.72c-.78.78-.78 2.05 0 2.83L4 21.41c.39.39.9.59 1.41.59.51 0 1.02-.2 1.41-.59l7.78-7.78 2.81-2.81c.8-.78.8-2.07 0-2.86zM5.41 20L4 18.59l7.72-7.72 1.47 1.35L5.41 20z\"/>\n",
              "  </svg>\n",
              "      </button>\n",
              "      \n",
              "  <style>\n",
              "    .colab-df-container {\n",
              "      display:flex;\n",
              "      flex-wrap:wrap;\n",
              "      gap: 12px;\n",
              "    }\n",
              "\n",
              "    .colab-df-convert {\n",
              "      background-color: #E8F0FE;\n",
              "      border: none;\n",
              "      border-radius: 50%;\n",
              "      cursor: pointer;\n",
              "      display: none;\n",
              "      fill: #1967D2;\n",
              "      height: 32px;\n",
              "      padding: 0 0 0 0;\n",
              "      width: 32px;\n",
              "    }\n",
              "\n",
              "    .colab-df-convert:hover {\n",
              "      background-color: #E2EBFA;\n",
              "      box-shadow: 0px 1px 2px rgba(60, 64, 67, 0.3), 0px 1px 3px 1px rgba(60, 64, 67, 0.15);\n",
              "      fill: #174EA6;\n",
              "    }\n",
              "\n",
              "    [theme=dark] .colab-df-convert {\n",
              "      background-color: #3B4455;\n",
              "      fill: #D2E3FC;\n",
              "    }\n",
              "\n",
              "    [theme=dark] .colab-df-convert:hover {\n",
              "      background-color: #434B5C;\n",
              "      box-shadow: 0px 1px 3px 1px rgba(0, 0, 0, 0.15);\n",
              "      filter: drop-shadow(0px 1px 2px rgba(0, 0, 0, 0.3));\n",
              "      fill: #FFFFFF;\n",
              "    }\n",
              "  </style>\n",
              "\n",
              "      <script>\n",
              "        const buttonEl =\n",
              "          document.querySelector('#df-e37df8f6-5873-4ff2-99f9-bc43230ed93f button.colab-df-convert');\n",
              "        buttonEl.style.display =\n",
              "          google.colab.kernel.accessAllowed ? 'block' : 'none';\n",
              "\n",
              "        async function convertToInteractive(key) {\n",
              "          const element = document.querySelector('#df-e37df8f6-5873-4ff2-99f9-bc43230ed93f');\n",
              "          const dataTable =\n",
              "            await google.colab.kernel.invokeFunction('convertToInteractive',\n",
              "                                                     [key], {});\n",
              "          if (!dataTable) return;\n",
              "\n",
              "          const docLinkHtml = 'Like what you see? Visit the ' +\n",
              "            '<a target=\"_blank\" href=https://colab.research.google.com/notebooks/data_table.ipynb>data table notebook</a>'\n",
              "            + ' to learn more about interactive tables.';\n",
              "          element.innerHTML = '';\n",
              "          dataTable['output_type'] = 'display_data';\n",
              "          await google.colab.output.renderOutput(dataTable, element);\n",
              "          const docLink = document.createElement('div');\n",
              "          docLink.innerHTML = docLinkHtml;\n",
              "          element.appendChild(docLink);\n",
              "        }\n",
              "      </script>\n",
              "    </div>\n",
              "  </div>\n",
              "  "
            ]
          },
          "metadata": {},
          "execution_count": 5
        }
      ]
    },
    {
      "cell_type": "code",
      "source": [
        "df.shape"
      ],
      "metadata": {
        "execution": {
          "iopub.status.busy": "2022-12-18T20:42:19.268482Z",
          "iopub.execute_input": "2022-12-18T20:42:19.268842Z",
          "iopub.status.idle": "2022-12-18T20:42:19.274901Z",
          "shell.execute_reply.started": "2022-12-18T20:42:19.268781Z",
          "shell.execute_reply": "2022-12-18T20:42:19.273953Z"
        },
        "trusted": true,
        "id": "qDkLTY6yAvB1",
        "outputId": "20a32bb3-04a1-4879-f823-14abe6db87d9",
        "colab": {
          "base_uri": "https://localhost:8080/"
        }
      },
      "execution_count": 6,
      "outputs": [
        {
          "output_type": "execute_result",
          "data": {
            "text/plain": [
              "(1010, 3)"
            ]
          },
          "metadata": {},
          "execution_count": 6
        }
      ]
    },
    {
      "cell_type": "markdown",
      "source": [
        "# Cleaning the Data"
      ],
      "metadata": {
        "id": "kDNm2AX_AvB2"
      }
    },
    {
      "cell_type": "markdown",
      "source": [
        "Look into the data to find missing values"
      ],
      "metadata": {
        "_uuid": "7a90cd436c36dac364ad9b2627f9152fe88e653e",
        "id": "3imleYfrAvB2"
      }
    },
    {
      "cell_type": "code",
      "source": [
        "df.isnull().sum()"
      ],
      "metadata": {
        "execution": {
          "iopub.status.busy": "2022-12-18T20:42:19.422931Z",
          "iopub.execute_input": "2022-12-18T20:42:19.423364Z",
          "iopub.status.idle": "2022-12-18T20:42:19.436428Z",
          "shell.execute_reply.started": "2022-12-18T20:42:19.423297Z",
          "shell.execute_reply": "2022-12-18T20:42:19.433249Z"
        },
        "trusted": true,
        "id": "HDwGEccsAvB2",
        "outputId": "dc8aa04d-9878-46da-a528-597f2d7e23dd",
        "colab": {
          "base_uri": "https://localhost:8080/"
        }
      },
      "execution_count": 7,
      "outputs": [
        {
          "output_type": "execute_result",
          "data": {
            "text/plain": [
              "Age            7\n",
              "Gender         6\n",
              "Preference    74\n",
              "dtype: int64"
            ]
          },
          "metadata": {},
          "execution_count": 7
        }
      ]
    },
    {
      "cell_type": "markdown",
      "source": [
        "Firstly, we drop the missing data from dataframe and reset our index"
      ],
      "metadata": {
        "_uuid": "741ec3d1655db0234b3067c08e6eb9ff1d273778",
        "id": "eYIePN1hAvB3"
      }
    },
    {
      "cell_type": "code",
      "source": [
        "df.dropna(inplace = True)\n",
        "df.reset_index(drop=True,inplace=True)\n",
        "row = len(df.index)"
      ],
      "metadata": {
        "_uuid": "9c615017cf146ac85a7c3454d003d12433846034",
        "execution": {
          "iopub.status.busy": "2022-12-18T20:42:19.600933Z",
          "iopub.execute_input": "2022-12-18T20:42:19.601310Z",
          "iopub.status.idle": "2022-12-18T20:42:19.609627Z",
          "shell.execute_reply.started": "2022-12-18T20:42:19.601247Z",
          "shell.execute_reply": "2022-12-18T20:42:19.608660Z"
        },
        "trusted": true,
        "id": "hlhx2xDAAvB3"
      },
      "execution_count": 8,
      "outputs": []
    },
    {
      "cell_type": "code",
      "source": [
        "df.shape"
      ],
      "metadata": {
        "execution": {
          "iopub.status.busy": "2022-12-18T20:42:19.890589Z",
          "iopub.execute_input": "2022-12-18T20:42:19.891173Z",
          "iopub.status.idle": "2022-12-18T20:42:19.898177Z",
          "shell.execute_reply.started": "2022-12-18T20:42:19.891119Z",
          "shell.execute_reply": "2022-12-18T20:42:19.896753Z"
        },
        "trusted": true,
        "id": "kV1uEi_xAvB3",
        "outputId": "f9969b45-b3c5-48ea-b255-08e2276a03e3",
        "colab": {
          "base_uri": "https://localhost:8080/"
        }
      },
      "execution_count": 9,
      "outputs": [
        {
          "output_type": "execute_result",
          "data": {
            "text/plain": [
              "(925, 3)"
            ]
          },
          "metadata": {},
          "execution_count": 9
        }
      ]
    },
    {
      "cell_type": "code",
      "source": [
        "df.info()"
      ],
      "metadata": {
        "execution": {
          "iopub.status.busy": "2022-12-18T20:42:20.933433Z",
          "iopub.execute_input": "2022-12-18T20:42:20.934111Z",
          "iopub.status.idle": "2022-12-18T20:42:20.947224Z",
          "shell.execute_reply.started": "2022-12-18T20:42:20.934049Z",
          "shell.execute_reply": "2022-12-18T20:42:20.946421Z"
        },
        "trusted": true,
        "id": "_EEA71lYAvB4",
        "outputId": "df56b6a2-100f-4feb-ada2-c1faaebcec04",
        "colab": {
          "base_uri": "https://localhost:8080/"
        }
      },
      "execution_count": 10,
      "outputs": [
        {
          "output_type": "stream",
          "name": "stdout",
          "text": [
            "<class 'pandas.core.frame.DataFrame'>\n",
            "RangeIndex: 925 entries, 0 to 924\n",
            "Data columns (total 3 columns):\n",
            " #   Column      Non-Null Count  Dtype  \n",
            "---  ------      --------------  -----  \n",
            " 0   Age         925 non-null    float64\n",
            " 1   Gender      925 non-null    object \n",
            " 2   Preference  925 non-null    object \n",
            "dtypes: float64(1), object(2)\n",
            "memory usage: 21.8+ KB\n"
          ]
        }
      ]
    },
    {
      "cell_type": "markdown",
      "source": [
        "All of numerical data has entered as float64 format and none of them has decimal part, thus we convert these data from float to integer format."
      ],
      "metadata": {
        "_uuid": "64c02c8a0692114bc78d03b9f8e50e8bb5a732b9",
        "id": "aMVKV2F9AvB4"
      }
    },
    {
      "cell_type": "code",
      "source": [
        "for each in range(0,2) :\n",
        "    if type(df.iloc[1,each]) == np.float64 :\n",
        "        df[df.columns[each]] = df[df.columns[each]].astype(int)\n",
        "    else :\n",
        "        df[df.columns[each]] = df[df.columns[each]]"
      ],
      "metadata": {
        "_uuid": "619f71607a3fe1ec6b6fa8fcc3ce92cf10625bf5",
        "execution": {
          "iopub.status.busy": "2022-12-18T20:42:21.037935Z",
          "iopub.execute_input": "2022-12-18T20:42:21.038475Z",
          "iopub.status.idle": "2022-12-18T20:42:21.054881Z",
          "shell.execute_reply.started": "2022-12-18T20:42:21.038403Z",
          "shell.execute_reply": "2022-12-18T20:42:21.053638Z"
        },
        "trusted": true,
        "id": "7NQLwe8kAvB4"
      },
      "execution_count": 11,
      "outputs": []
    },
    {
      "cell_type": "markdown",
      "source": [
        "Sorting categorical values :\n",
        "Gender\n",
        "Alcohol\n",
        "Education"
      ],
      "metadata": {
        "id": "GU-O23zxAvB4"
      }
    },
    {
      "cell_type": "code",
      "source": [
        "df.Gender.unique()"
      ],
      "metadata": {
        "execution": {
          "iopub.status.busy": "2022-12-18T20:42:21.156508Z",
          "iopub.execute_input": "2022-12-18T20:42:21.157033Z",
          "iopub.status.idle": "2022-12-18T20:42:21.164762Z",
          "shell.execute_reply.started": "2022-12-18T20:42:21.156932Z",
          "shell.execute_reply": "2022-12-18T20:42:21.163565Z"
        },
        "trusted": true,
        "id": "DxcfV_1YAvB4",
        "outputId": "f025a864-ae22-41fc-f0d7-6af1e5e6d6e8",
        "colab": {
          "base_uri": "https://localhost:8080/"
        }
      },
      "execution_count": 12,
      "outputs": [
        {
          "output_type": "execute_result",
          "data": {
            "text/plain": [
              "array(['female', 'male'], dtype=object)"
            ]
          },
          "metadata": {},
          "execution_count": 12
        }
      ]
    },
    {
      "cell_type": "markdown",
      "source": [
        "In \"Gender\" column, there are \"female\" and \"male\" values, they convert as \"female\"= 0 , \"male = 1\""
      ],
      "metadata": {
        "id": "SuFhVin_AvB5"
      }
    },
    {
      "cell_type": "code",
      "source": [
        "for sex in range(0,row) :\n",
        "    if df.loc[sex,'Gender'] == 'female' :\n",
        "        df.loc[sex,'Gender'] = 0\n",
        "    else :\n",
        "        df.loc[sex,'Gender'] = 1"
      ],
      "metadata": {
        "execution": {
          "iopub.status.busy": "2022-12-18T20:42:21.242092Z",
          "iopub.execute_input": "2022-12-18T20:42:21.242626Z",
          "iopub.status.idle": "2022-12-18T20:42:21.749446Z",
          "shell.execute_reply.started": "2022-12-18T20:42:21.242405Z",
          "shell.execute_reply": "2022-12-18T20:42:21.748354Z"
        },
        "trusted": true,
        "id": "OWclUPMtAvB5"
      },
      "execution_count": 13,
      "outputs": []
    },
    {
      "cell_type": "code",
      "source": [
        "df['Gender'].tail()"
      ],
      "metadata": {
        "execution": {
          "iopub.status.busy": "2022-12-18T20:42:21.752346Z",
          "iopub.execute_input": "2022-12-18T20:42:21.752826Z",
          "iopub.status.idle": "2022-12-18T20:42:21.761768Z",
          "shell.execute_reply.started": "2022-12-18T20:42:21.752737Z",
          "shell.execute_reply": "2022-12-18T20:42:21.760480Z"
        },
        "trusted": true,
        "id": "9NcmNu2LAvB5",
        "outputId": "26d174bc-e1fb-4a6d-dd4d-0bf5de0565ef",
        "colab": {
          "base_uri": "https://localhost:8080/"
        }
      },
      "execution_count": 14,
      "outputs": [
        {
          "output_type": "execute_result",
          "data": {
            "text/plain": [
              "920    0\n",
              "921    1\n",
              "922    0\n",
              "923    0\n",
              "924    0\n",
              "Name: Gender, dtype: object"
            ]
          },
          "metadata": {},
          "execution_count": 14
        }
      ]
    },
    {
      "cell_type": "code",
      "source": [
        "df['Gender'] = df['Gender'].astype(int)"
      ],
      "metadata": {
        "id": "BTVp2M7en94A"
      },
      "execution_count": 15,
      "outputs": []
    },
    {
      "cell_type": "code",
      "source": [
        "df.info()"
      ],
      "metadata": {
        "colab": {
          "base_uri": "https://localhost:8080/"
        },
        "id": "YLPhd-3KoF-n",
        "outputId": "40b6ffb6-8d47-4ad7-ffa2-77fd4b216af7"
      },
      "execution_count": 16,
      "outputs": [
        {
          "output_type": "stream",
          "name": "stdout",
          "text": [
            "<class 'pandas.core.frame.DataFrame'>\n",
            "RangeIndex: 925 entries, 0 to 924\n",
            "Data columns (total 3 columns):\n",
            " #   Column      Non-Null Count  Dtype \n",
            "---  ------      --------------  ----- \n",
            " 0   Age         925 non-null    int64 \n",
            " 1   Gender      925 non-null    int64 \n",
            " 2   Preference  925 non-null    object\n",
            "dtypes: int64(2), object(1)\n",
            "memory usage: 21.8+ KB\n"
          ]
        }
      ]
    },
    {
      "cell_type": "markdown",
      "source": [
        "# Exploring Data"
      ],
      "metadata": {
        "_uuid": "3faffc6d1b0e2f278f9ca1783911a986e912514d",
        "id": "S5KmIBB1AvB8"
      }
    },
    {
      "cell_type": "code",
      "source": [
        "df.corr()"
      ],
      "metadata": {
        "colab": {
          "base_uri": "https://localhost:8080/",
          "height": 112
        },
        "id": "U31UBvnOoJVG",
        "outputId": "656e6147-89da-42fc-ed97-486212667b93"
      },
      "execution_count": 17,
      "outputs": [
        {
          "output_type": "execute_result",
          "data": {
            "text/plain": [
              "             Age    Gender\n",
              "Age     1.000000  0.126457\n",
              "Gender  0.126457  1.000000"
            ],
            "text/html": [
              "\n",
              "  <div id=\"df-3d4c9221-bf37-49c7-9f19-aebc6de3364f\">\n",
              "    <div class=\"colab-df-container\">\n",
              "      <div>\n",
              "<style scoped>\n",
              "    .dataframe tbody tr th:only-of-type {\n",
              "        vertical-align: middle;\n",
              "    }\n",
              "\n",
              "    .dataframe tbody tr th {\n",
              "        vertical-align: top;\n",
              "    }\n",
              "\n",
              "    .dataframe thead th {\n",
              "        text-align: right;\n",
              "    }\n",
              "</style>\n",
              "<table border=\"1\" class=\"dataframe\">\n",
              "  <thead>\n",
              "    <tr style=\"text-align: right;\">\n",
              "      <th></th>\n",
              "      <th>Age</th>\n",
              "      <th>Gender</th>\n",
              "    </tr>\n",
              "  </thead>\n",
              "  <tbody>\n",
              "    <tr>\n",
              "      <th>Age</th>\n",
              "      <td>1.000000</td>\n",
              "      <td>0.126457</td>\n",
              "    </tr>\n",
              "    <tr>\n",
              "      <th>Gender</th>\n",
              "      <td>0.126457</td>\n",
              "      <td>1.000000</td>\n",
              "    </tr>\n",
              "  </tbody>\n",
              "</table>\n",
              "</div>\n",
              "      <button class=\"colab-df-convert\" onclick=\"convertToInteractive('df-3d4c9221-bf37-49c7-9f19-aebc6de3364f')\"\n",
              "              title=\"Convert this dataframe to an interactive table.\"\n",
              "              style=\"display:none;\">\n",
              "        \n",
              "  <svg xmlns=\"http://www.w3.org/2000/svg\" height=\"24px\"viewBox=\"0 0 24 24\"\n",
              "       width=\"24px\">\n",
              "    <path d=\"M0 0h24v24H0V0z\" fill=\"none\"/>\n",
              "    <path d=\"M18.56 5.44l.94 2.06.94-2.06 2.06-.94-2.06-.94-.94-2.06-.94 2.06-2.06.94zm-11 1L8.5 8.5l.94-2.06 2.06-.94-2.06-.94L8.5 2.5l-.94 2.06-2.06.94zm10 10l.94 2.06.94-2.06 2.06-.94-2.06-.94-.94-2.06-.94 2.06-2.06.94z\"/><path d=\"M17.41 7.96l-1.37-1.37c-.4-.4-.92-.59-1.43-.59-.52 0-1.04.2-1.43.59L10.3 9.45l-7.72 7.72c-.78.78-.78 2.05 0 2.83L4 21.41c.39.39.9.59 1.41.59.51 0 1.02-.2 1.41-.59l7.78-7.78 2.81-2.81c.8-.78.8-2.07 0-2.86zM5.41 20L4 18.59l7.72-7.72 1.47 1.35L5.41 20z\"/>\n",
              "  </svg>\n",
              "      </button>\n",
              "      \n",
              "  <style>\n",
              "    .colab-df-container {\n",
              "      display:flex;\n",
              "      flex-wrap:wrap;\n",
              "      gap: 12px;\n",
              "    }\n",
              "\n",
              "    .colab-df-convert {\n",
              "      background-color: #E8F0FE;\n",
              "      border: none;\n",
              "      border-radius: 50%;\n",
              "      cursor: pointer;\n",
              "      display: none;\n",
              "      fill: #1967D2;\n",
              "      height: 32px;\n",
              "      padding: 0 0 0 0;\n",
              "      width: 32px;\n",
              "    }\n",
              "\n",
              "    .colab-df-convert:hover {\n",
              "      background-color: #E2EBFA;\n",
              "      box-shadow: 0px 1px 2px rgba(60, 64, 67, 0.3), 0px 1px 3px 1px rgba(60, 64, 67, 0.15);\n",
              "      fill: #174EA6;\n",
              "    }\n",
              "\n",
              "    [theme=dark] .colab-df-convert {\n",
              "      background-color: #3B4455;\n",
              "      fill: #D2E3FC;\n",
              "    }\n",
              "\n",
              "    [theme=dark] .colab-df-convert:hover {\n",
              "      background-color: #434B5C;\n",
              "      box-shadow: 0px 1px 3px 1px rgba(0, 0, 0, 0.15);\n",
              "      filter: drop-shadow(0px 1px 2px rgba(0, 0, 0, 0.3));\n",
              "      fill: #FFFFFF;\n",
              "    }\n",
              "  </style>\n",
              "\n",
              "      <script>\n",
              "        const buttonEl =\n",
              "          document.querySelector('#df-3d4c9221-bf37-49c7-9f19-aebc6de3364f button.colab-df-convert');\n",
              "        buttonEl.style.display =\n",
              "          google.colab.kernel.accessAllowed ? 'block' : 'none';\n",
              "\n",
              "        async function convertToInteractive(key) {\n",
              "          const element = document.querySelector('#df-3d4c9221-bf37-49c7-9f19-aebc6de3364f');\n",
              "          const dataTable =\n",
              "            await google.colab.kernel.invokeFunction('convertToInteractive',\n",
              "                                                     [key], {});\n",
              "          if (!dataTable) return;\n",
              "\n",
              "          const docLinkHtml = 'Like what you see? Visit the ' +\n",
              "            '<a target=\"_blank\" href=https://colab.research.google.com/notebooks/data_table.ipynb>data table notebook</a>'\n",
              "            + ' to learn more about interactive tables.';\n",
              "          element.innerHTML = '';\n",
              "          dataTable['output_type'] = 'display_data';\n",
              "          await google.colab.output.renderOutput(dataTable, element);\n",
              "          const docLink = document.createElement('div');\n",
              "          docLink.innerHTML = docLinkHtml;\n",
              "          element.appendChild(docLink);\n",
              "        }\n",
              "      </script>\n",
              "    </div>\n",
              "  </div>\n",
              "  "
            ]
          },
          "metadata": {},
          "execution_count": 17
        }
      ]
    },
    {
      "cell_type": "markdown",
      "source": [
        "Age and gender have a small positive correlation"
      ],
      "metadata": {
        "id": "bnIOOLl7p3jx"
      }
    },
    {
      "cell_type": "markdown",
      "source": [
        "    Coefficient,\n",
        "\n",
        "---\n",
        "\n",
        "\n",
        "    Strength of Association         Positive\t       Negative\n",
        "    Small\t                       .1 to .3\t      -0.1 to -0.3\n",
        "    Medium\t                      .3 to .5\t      -0.3 to -0.5\n",
        "    Large                           .5 to 1.0\t     -0.5 to -1.0"
      ],
      "metadata": {
        "_uuid": "dea037b90e01466ff15fb059a70f3c461b4657a1",
        "id": "b5CEARoJAvB9"
      }
    },
    {
      "cell_type": "code",
      "source": [
        "df.describe()"
      ],
      "metadata": {
        "colab": {
          "base_uri": "https://localhost:8080/",
          "height": 300
        },
        "id": "yDzxaFCpmbuW",
        "outputId": "c71a3c83-367e-4d5a-eea7-7c5c734f28e4"
      },
      "execution_count": 18,
      "outputs": [
        {
          "output_type": "execute_result",
          "data": {
            "text/plain": [
              "              Age      Gender\n",
              "count  925.000000  925.000000\n",
              "mean    20.419459    0.407568\n",
              "std      2.800211    0.491648\n",
              "min     15.000000    0.000000\n",
              "25%     19.000000    0.000000\n",
              "50%     20.000000    0.000000\n",
              "75%     22.000000    1.000000\n",
              "max     30.000000    1.000000"
            ],
            "text/html": [
              "\n",
              "  <div id=\"df-a1dea8de-2add-45db-a03b-0be7d934a23c\">\n",
              "    <div class=\"colab-df-container\">\n",
              "      <div>\n",
              "<style scoped>\n",
              "    .dataframe tbody tr th:only-of-type {\n",
              "        vertical-align: middle;\n",
              "    }\n",
              "\n",
              "    .dataframe tbody tr th {\n",
              "        vertical-align: top;\n",
              "    }\n",
              "\n",
              "    .dataframe thead th {\n",
              "        text-align: right;\n",
              "    }\n",
              "</style>\n",
              "<table border=\"1\" class=\"dataframe\">\n",
              "  <thead>\n",
              "    <tr style=\"text-align: right;\">\n",
              "      <th></th>\n",
              "      <th>Age</th>\n",
              "      <th>Gender</th>\n",
              "    </tr>\n",
              "  </thead>\n",
              "  <tbody>\n",
              "    <tr>\n",
              "      <th>count</th>\n",
              "      <td>925.000000</td>\n",
              "      <td>925.000000</td>\n",
              "    </tr>\n",
              "    <tr>\n",
              "      <th>mean</th>\n",
              "      <td>20.419459</td>\n",
              "      <td>0.407568</td>\n",
              "    </tr>\n",
              "    <tr>\n",
              "      <th>std</th>\n",
              "      <td>2.800211</td>\n",
              "      <td>0.491648</td>\n",
              "    </tr>\n",
              "    <tr>\n",
              "      <th>min</th>\n",
              "      <td>15.000000</td>\n",
              "      <td>0.000000</td>\n",
              "    </tr>\n",
              "    <tr>\n",
              "      <th>25%</th>\n",
              "      <td>19.000000</td>\n",
              "      <td>0.000000</td>\n",
              "    </tr>\n",
              "    <tr>\n",
              "      <th>50%</th>\n",
              "      <td>20.000000</td>\n",
              "      <td>0.000000</td>\n",
              "    </tr>\n",
              "    <tr>\n",
              "      <th>75%</th>\n",
              "      <td>22.000000</td>\n",
              "      <td>1.000000</td>\n",
              "    </tr>\n",
              "    <tr>\n",
              "      <th>max</th>\n",
              "      <td>30.000000</td>\n",
              "      <td>1.000000</td>\n",
              "    </tr>\n",
              "  </tbody>\n",
              "</table>\n",
              "</div>\n",
              "      <button class=\"colab-df-convert\" onclick=\"convertToInteractive('df-a1dea8de-2add-45db-a03b-0be7d934a23c')\"\n",
              "              title=\"Convert this dataframe to an interactive table.\"\n",
              "              style=\"display:none;\">\n",
              "        \n",
              "  <svg xmlns=\"http://www.w3.org/2000/svg\" height=\"24px\"viewBox=\"0 0 24 24\"\n",
              "       width=\"24px\">\n",
              "    <path d=\"M0 0h24v24H0V0z\" fill=\"none\"/>\n",
              "    <path d=\"M18.56 5.44l.94 2.06.94-2.06 2.06-.94-2.06-.94-.94-2.06-.94 2.06-2.06.94zm-11 1L8.5 8.5l.94-2.06 2.06-.94-2.06-.94L8.5 2.5l-.94 2.06-2.06.94zm10 10l.94 2.06.94-2.06 2.06-.94-2.06-.94-.94-2.06-.94 2.06-2.06.94z\"/><path d=\"M17.41 7.96l-1.37-1.37c-.4-.4-.92-.59-1.43-.59-.52 0-1.04.2-1.43.59L10.3 9.45l-7.72 7.72c-.78.78-.78 2.05 0 2.83L4 21.41c.39.39.9.59 1.41.59.51 0 1.02-.2 1.41-.59l7.78-7.78 2.81-2.81c.8-.78.8-2.07 0-2.86zM5.41 20L4 18.59l7.72-7.72 1.47 1.35L5.41 20z\"/>\n",
              "  </svg>\n",
              "      </button>\n",
              "      \n",
              "  <style>\n",
              "    .colab-df-container {\n",
              "      display:flex;\n",
              "      flex-wrap:wrap;\n",
              "      gap: 12px;\n",
              "    }\n",
              "\n",
              "    .colab-df-convert {\n",
              "      background-color: #E8F0FE;\n",
              "      border: none;\n",
              "      border-radius: 50%;\n",
              "      cursor: pointer;\n",
              "      display: none;\n",
              "      fill: #1967D2;\n",
              "      height: 32px;\n",
              "      padding: 0 0 0 0;\n",
              "      width: 32px;\n",
              "    }\n",
              "\n",
              "    .colab-df-convert:hover {\n",
              "      background-color: #E2EBFA;\n",
              "      box-shadow: 0px 1px 2px rgba(60, 64, 67, 0.3), 0px 1px 3px 1px rgba(60, 64, 67, 0.15);\n",
              "      fill: #174EA6;\n",
              "    }\n",
              "\n",
              "    [theme=dark] .colab-df-convert {\n",
              "      background-color: #3B4455;\n",
              "      fill: #D2E3FC;\n",
              "    }\n",
              "\n",
              "    [theme=dark] .colab-df-convert:hover {\n",
              "      background-color: #434B5C;\n",
              "      box-shadow: 0px 1px 3px 1px rgba(0, 0, 0, 0.15);\n",
              "      filter: drop-shadow(0px 1px 2px rgba(0, 0, 0, 0.3));\n",
              "      fill: #FFFFFF;\n",
              "    }\n",
              "  </style>\n",
              "\n",
              "      <script>\n",
              "        const buttonEl =\n",
              "          document.querySelector('#df-a1dea8de-2add-45db-a03b-0be7d934a23c button.colab-df-convert');\n",
              "        buttonEl.style.display =\n",
              "          google.colab.kernel.accessAllowed ? 'block' : 'none';\n",
              "\n",
              "        async function convertToInteractive(key) {\n",
              "          const element = document.querySelector('#df-a1dea8de-2add-45db-a03b-0be7d934a23c');\n",
              "          const dataTable =\n",
              "            await google.colab.kernel.invokeFunction('convertToInteractive',\n",
              "                                                     [key], {});\n",
              "          if (!dataTable) return;\n",
              "\n",
              "          const docLinkHtml = 'Like what you see? Visit the ' +\n",
              "            '<a target=\"_blank\" href=https://colab.research.google.com/notebooks/data_table.ipynb>data table notebook</a>'\n",
              "            + ' to learn more about interactive tables.';\n",
              "          element.innerHTML = '';\n",
              "          dataTable['output_type'] = 'display_data';\n",
              "          await google.colab.output.renderOutput(dataTable, element);\n",
              "          const docLink = document.createElement('div');\n",
              "          docLink.innerHTML = docLinkHtml;\n",
              "          element.appendChild(docLink);\n",
              "        }\n",
              "      </script>\n",
              "    </div>\n",
              "  </div>\n",
              "  "
            ]
          },
          "metadata": {},
          "execution_count": 18
        }
      ]
    },
    {
      "cell_type": "code",
      "source": [
        "f,ax = plt.subplots(figsize=(25, 20))\n",
        "sns.heatmap(df.corr(), annot=True, linewidths=1, fmt= '.1f',ax=ax)\n",
        "plt.show()"
      ],
      "metadata": {
        "_uuid": "f07e83f24d9b4cde126bc9cefb99358518c3b2a5",
        "execution": {
          "iopub.status.busy": "2022-12-18T20:42:24.332434Z",
          "iopub.execute_input": "2022-12-18T20:42:24.332766Z",
          "iopub.status.idle": "2022-12-18T20:42:26.751650Z",
          "shell.execute_reply.started": "2022-12-18T20:42:24.332709Z",
          "shell.execute_reply": "2022-12-18T20:42:26.750728Z"
        },
        "trusted": true,
        "id": "2bgWbRuAAvB9",
        "outputId": "0ac14db3-819c-4311-d93e-c322231740b0",
        "colab": {
          "base_uri": "https://localhost:8080/",
          "height": 650
        }
      },
      "execution_count": 19,
      "outputs": [
        {
          "output_type": "display_data",
          "data": {
            "text/plain": [
              "<Figure size 1800x1440 with 2 Axes>"
            ],
            "image/png": "[encoded data removed]"
          },
          "metadata": {
            "needs_background": "light"
          }
        }
      ]
    },
    {
      "cell_type": "markdown",
      "source": [
        "# Processing the Data\n",
        "We need to divide the data into input data and output data.\n",
        "\n",
        "Input : age, gender\n",
        "\n",
        "Output : music preferrence"
      ],
      "metadata": {
        "id": "j9-_ExWrAvB_"
      }
    },
    {
      "cell_type": "code",
      "source": [
        "X= df.drop(columns=['Preference'])\n",
        "y= df['Preference']"
      ],
      "metadata": {
        "id": "4KpKwqsCqnKN"
      },
      "execution_count": 65,
      "outputs": []
    },
    {
      "cell_type": "markdown",
      "source": [
        "Splitting data into training set and test set"
      ],
      "metadata": {
        "id": "gXaHPx4OAvCA"
      }
    },
    {
      "cell_type": "code",
      "source": [
        "X_train, X_test, y_train,y_test= train_test_split(X,y, test_size=0.2)"
      ],
      "metadata": {
        "execution": {
          "iopub.status.busy": "2022-12-18T20:42:26.832140Z",
          "iopub.status.idle": "2022-12-18T20:42:26.832628Z"
        },
        "trusted": true,
        "id": "cFQxyV9fAvCA"
      },
      "execution_count": 66,
      "outputs": []
    },
    {
      "cell_type": "markdown",
      "source": [
        "Feature Scaling"
      ],
      "metadata": {
        "id": "f9zFVVQ4xfw9"
      }
    },
    {
      "cell_type": "code",
      "source": [
        "cols = X_train.columns \n",
        "scaler= StandardScaler()\n",
        "X_train = scaler.fit_transform(X_train)\n",
        "\n",
        "X_test = scaler.transform(X_test)"
      ],
      "metadata": {
        "id": "gCPDpUhcxewC"
      },
      "execution_count": 67,
      "outputs": []
    },
    {
      "cell_type": "code",
      "source": [
        "X_train = pd.DataFrame(X_train, columns=[cols])"
      ],
      "metadata": {
        "id": "93gyyM05yJlp"
      },
      "execution_count": 68,
      "outputs": []
    },
    {
      "cell_type": "code",
      "source": [
        "X_test = pd.DataFrame(X_test, columns=[cols])"
      ],
      "metadata": {
        "id": "YYvj4lgLyZ4i"
      },
      "execution_count": 69,
      "outputs": []
    },
    {
      "cell_type": "code",
      "source": [
        "X_train.describe()"
      ],
      "metadata": {
        "colab": {
          "base_uri": "https://localhost:8080/",
          "height": 300
        },
        "id": "non5MB6sybU7",
        "outputId": "728bcc34-eb5b-4982-fb05-94ddc36a0623"
      },
      "execution_count": 70,
      "outputs": [
        {
          "output_type": "execute_result",
          "data": {
            "text/plain": [
              "                Age        Gender\n",
              "count  7.400000e+02  7.400000e+02\n",
              "mean  -4.800964e-16  5.521109e-17\n",
              "std    1.000676e+00  1.000676e+00\n",
              "min   -1.941780e+00 -8.373467e-01\n",
              "25%   -5.208482e-01 -8.373467e-01\n",
              "50%   -1.656153e-01 -8.373467e-01\n",
              "75%    5.448504e-01  1.194249e+00\n",
              "max    3.386713e+00  1.194249e+00"
            ],
            "text/html": [
              "\n",
              "  <div id=\"df-22120beb-43c7-41ef-90e1-04b9e476f4aa\">\n",
              "    <div class=\"colab-df-container\">\n",
              "      <div>\n",
              "<style scoped>\n",
              "    .dataframe tbody tr th:only-of-type {\n",
              "        vertical-align: middle;\n",
              "    }\n",
              "\n",
              "    .dataframe tbody tr th {\n",
              "        vertical-align: top;\n",
              "    }\n",
              "\n",
              "    .dataframe thead tr th {\n",
              "        text-align: left;\n",
              "    }\n",
              "</style>\n",
              "<table border=\"1\" class=\"dataframe\">\n",
              "  <thead>\n",
              "    <tr>\n",
              "      <th></th>\n",
              "      <th>Age</th>\n",
              "      <th>Gender</th>\n",
              "    </tr>\n",
              "  </thead>\n",
              "  <tbody>\n",
              "    <tr>\n",
              "      <th>count</th>\n",
              "      <td>7.400000e+02</td>\n",
              "      <td>7.400000e+02</td>\n",
              "    </tr>\n",
              "    <tr>\n",
              "      <th>mean</th>\n",
              "      <td>-4.800964e-16</td>\n",
              "      <td>5.521109e-17</td>\n",
              "    </tr>\n",
              "    <tr>\n",
              "      <th>std</th>\n",
              "      <td>1.000676e+00</td>\n",
              "      <td>1.000676e+00</td>\n",
              "    </tr>\n",
              "    <tr>\n",
              "      <th>min</th>\n",
              "      <td>-1.941780e+00</td>\n",
              "      <td>-8.373467e-01</td>\n",
              "    </tr>\n",
              "    <tr>\n",
              "      <th>25%</th>\n",
              "      <td>-5.208482e-01</td>\n",
              "      <td>-8.373467e-01</td>\n",
              "    </tr>\n",
              "    <tr>\n",
              "      <th>50%</th>\n",
              "      <td>-1.656153e-01</td>\n",
              "      <td>-8.373467e-01</td>\n",
              "    </tr>\n",
              "    <tr>\n",
              "      <th>75%</th>\n",
              "      <td>5.448504e-01</td>\n",
              "      <td>1.194249e+00</td>\n",
              "    </tr>\n",
              "    <tr>\n",
              "      <th>max</th>\n",
              "      <td>3.386713e+00</td>\n",
              "      <td>1.194249e+00</td>\n",
              "    </tr>\n",
              "  </tbody>\n",
              "</table>\n",
              "</div>\n",
              "      <button class=\"colab-df-convert\" onclick=\"convertToInteractive('df-22120beb-43c7-41ef-90e1-04b9e476f4aa')\"\n",
              "              title=\"Convert this dataframe to an interactive table.\"\n",
              "              style=\"display:none;\">\n",
              "        \n",
              "  <svg xmlns=\"http://www.w3.org/2000/svg\" height=\"24px\"viewBox=\"0 0 24 24\"\n",
              "       width=\"24px\">\n",
              "    <path d=\"M0 0h24v24H0V0z\" fill=\"none\"/>\n",
              "    <path d=\"M18.56 5.44l.94 2.06.94-2.06 2.06-.94-2.06-.94-.94-2.06-.94 2.06-2.06.94zm-11 1L8.5 8.5l.94-2.06 2.06-.94-2.06-.94L8.5 2.5l-.94 2.06-2.06.94zm10 10l.94 2.06.94-2.06 2.06-.94-2.06-.94-.94-2.06-.94 2.06-2.06.94z\"/><path d=\"M17.41 7.96l-1.37-1.37c-.4-.4-.92-.59-1.43-.59-.52 0-1.04.2-1.43.59L10.3 9.45l-7.72 7.72c-.78.78-.78 2.05 0 2.83L4 21.41c.39.39.9.59 1.41.59.51 0 1.02-.2 1.41-.59l7.78-7.78 2.81-2.81c.8-.78.8-2.07 0-2.86zM5.41 20L4 18.59l7.72-7.72 1.47 1.35L5.41 20z\"/>\n",
              "  </svg>\n",
              "      </button>\n",
              "      \n",
              "  <style>\n",
              "    .colab-df-container {\n",
              "      display:flex;\n",
              "      flex-wrap:wrap;\n",
              "      gap: 12px;\n",
              "    }\n",
              "\n",
              "    .colab-df-convert {\n",
              "      background-color: #E8F0FE;\n",
              "      border: none;\n",
              "      border-radius: 50%;\n",
              "      cursor: pointer;\n",
              "      display: none;\n",
              "      fill: #1967D2;\n",
              "      height: 32px;\n",
              "      padding: 0 0 0 0;\n",
              "      width: 32px;\n",
              "    }\n",
              "\n",
              "    .colab-df-convert:hover {\n",
              "      background-color: #E2EBFA;\n",
              "      box-shadow: 0px 1px 2px rgba(60, 64, 67, 0.3), 0px 1px 3px 1px rgba(60, 64, 67, 0.15);\n",
              "      fill: #174EA6;\n",
              "    }\n",
              "\n",
              "    [theme=dark] .colab-df-convert {\n",
              "      background-color: #3B4455;\n",
              "      fill: #D2E3FC;\n",
              "    }\n",
              "\n",
              "    [theme=dark] .colab-df-convert:hover {\n",
              "      background-color: #434B5C;\n",
              "      box-shadow: 0px 1px 3px 1px rgba(0, 0, 0, 0.15);\n",
              "      filter: drop-shadow(0px 1px 2px rgba(0, 0, 0, 0.3));\n",
              "      fill: #FFFFFF;\n",
              "    }\n",
              "  </style>\n",
              "\n",
              "      <script>\n",
              "        const buttonEl =\n",
              "          document.querySelector('#df-22120beb-43c7-41ef-90e1-04b9e476f4aa button.colab-df-convert');\n",
              "        buttonEl.style.display =\n",
              "          google.colab.kernel.accessAllowed ? 'block' : 'none';\n",
              "\n",
              "        async function convertToInteractive(key) {\n",
              "          const element = document.querySelector('#df-22120beb-43c7-41ef-90e1-04b9e476f4aa');\n",
              "          const dataTable =\n",
              "            await google.colab.kernel.invokeFunction('convertToInteractive',\n",
              "                                                     [key], {});\n",
              "          if (!dataTable) return;\n",
              "\n",
              "          const docLinkHtml = 'Like what you see? Visit the ' +\n",
              "            '<a target=\"_blank\" href=https://colab.research.google.com/notebooks/data_table.ipynb>data table notebook</a>'\n",
              "            + ' to learn more about interactive tables.';\n",
              "          element.innerHTML = '';\n",
              "          dataTable['output_type'] = 'display_data';\n",
              "          await google.colab.output.renderOutput(dataTable, element);\n",
              "          const docLink = document.createElement('div');\n",
              "          docLink.innerHTML = docLinkHtml;\n",
              "          element.appendChild(docLink);\n",
              "        }\n",
              "      </script>\n",
              "    </div>\n",
              "  </div>\n",
              "  "
            ]
          },
          "metadata": {},
          "execution_count": 70
        }
      ]
    },
    {
      "cell_type": "markdown",
      "source": [
        "# Creating and Training the model"
      ],
      "metadata": {
        "id": "fhBYhSNsAvCA"
      }
    },
    {
      "cell_type": "code",
      "source": [
        "svc=SVC()"
      ],
      "metadata": {
        "id": "pkPakpJNyz85"
      },
      "execution_count": 81,
      "outputs": []
    },
    {
      "cell_type": "code",
      "source": [
        "svc.fit(X_train, y_train)"
      ],
      "metadata": {
        "colab": {
          "base_uri": "https://localhost:8080/"
        },
        "id": "kUvRi3-Cy2uj",
        "outputId": "86e95edf-d3af-4b8f-8036-7ee4967f9d97"
      },
      "execution_count": 82,
      "outputs": [
        {
          "output_type": "stream",
          "name": "stderr",
          "text": [
            "/usr/local/lib/python3.8/dist-packages/sklearn/utils/validation.py:1688: FutureWarning: Feature names only support names that are all strings. Got feature names with dtypes: ['tuple']. An error will be raised in 1.2.\n",
            "  warnings.warn(\n"
          ]
        },
        {
          "output_type": "execute_result",
          "data": {
            "text/plain": [
              "SVC()"
            ]
          },
          "metadata": {},
          "execution_count": 82
        }
      ]
    },
    {
      "cell_type": "code",
      "source": [
        "y_prediction = svc.predict([[22,0]])\n",
        "y_prediction"
      ],
      "metadata": {
        "execution": {
          "iopub.status.busy": "2022-12-18T20:42:26.836090Z",
          "iopub.status.idle": "2022-12-18T20:42:26.836567Z"
        },
        "trusted": true,
        "id": "DTTO5S3eAvCA",
        "colab": {
          "base_uri": "https://localhost:8080/"
        },
        "outputId": "c9663bdf-ff5f-4aed-af90-ed0a9314d6d5"
      },
      "execution_count": 83,
      "outputs": [
        {
          "output_type": "execute_result",
          "data": {
            "text/plain": [
              "array(['Rock'], dtype=object)"
            ]
          },
          "metadata": {},
          "execution_count": 83
        }
      ]
    },
    {
      "cell_type": "markdown",
      "source": [
        "The model was asked to predict the music preferrence of a 22-year-old female and the prediction was Rock."
      ],
      "metadata": {
        "id": "-L17WYW4stN5"
      }
    },
    {
      "cell_type": "code",
      "source": [
        "y_prediction = svc.predict([[30,0]])\n",
        "y_prediction"
      ],
      "metadata": {
        "colab": {
          "base_uri": "https://localhost:8080/"
        },
        "id": "Gfhuv_76s7Jy",
        "outputId": "2b741c3d-f6c2-42cc-e49a-b900bc3a196e"
      },
      "execution_count": 84,
      "outputs": [
        {
          "output_type": "execute_result",
          "data": {
            "text/plain": [
              "array(['Rock'], dtype=object)"
            ]
          },
          "metadata": {},
          "execution_count": 84
        }
      ]
    },
    {
      "cell_type": "markdown",
      "source": [
        "The model was asked to predict the music preferrence of a 30-year-old female and the prediction was Rock."
      ],
      "metadata": {
        "id": "5J48_Rm_tBfZ"
      }
    },
    {
      "cell_type": "markdown",
      "source": [
        "# Evaluation\n",
        "\n",
        "We want to evaluate the model on its predictions."
      ],
      "metadata": {
        "id": "4YOfLjuQAvCA"
      }
    },
    {
      "cell_type": "code",
      "source": [
        "predictions= svc.predict(X_test)\n",
        "predictions"
      ],
      "metadata": {
        "id": "idGEKHNItjJG",
        "colab": {
          "base_uri": "https://localhost:8080/"
        },
        "outputId": "4205d0ec-0f30-4a7d-d4dc-8cb1a7da4e01"
      },
      "execution_count": 85,
      "outputs": [
        {
          "output_type": "stream",
          "name": "stderr",
          "text": [
            "/usr/local/lib/python3.8/dist-packages/sklearn/utils/validation.py:1688: FutureWarning: Feature names only support names that are all strings. Got feature names with dtypes: ['tuple']. An error will be raised in 1.2.\n",
            "  warnings.warn(\n"
          ]
        },
        {
          "output_type": "execute_result",
          "data": {
            "text/plain": [
              "array(['Rock', 'Rock', 'Rock', 'Rock', 'Pop', 'Rock', 'Rock', 'Rock',\n",
              "       'Rock', 'Rock', 'Rock', 'Rock', 'Rock', 'Pop', 'Rock', 'Rock',\n",
              "       'Rock', 'Rock', 'Rock', 'Rock', 'Rock', 'Rock', 'Classical music',\n",
              "       'Rock', 'Rock', 'Rock', 'Rock', 'Rock', 'Rock', 'Rock', 'Rock',\n",
              "       'Rock', 'Rock', 'Pop', 'Pop', 'Rock', 'Rock', 'Rock', 'Rock',\n",
              "       'Rock', 'Rock', 'Rock', 'Rock', 'Rock', 'Rock', 'Rock', 'Pop',\n",
              "       'Rock', 'Rock', 'Rock', 'Pop', 'Rock', 'Rock', 'Rock', 'Pop',\n",
              "       'Rock', 'Pop', 'Rock', 'Rock', 'Pop', 'Rock', 'Rock', 'Rock',\n",
              "       'Pop', 'Rock', 'Rock', 'Rock', 'Rock', 'Rock', 'Pop', 'Pop',\n",
              "       'Rock', 'Rock', 'Rock', 'Rock', 'Pop', 'Pop', 'Rock', 'Rock',\n",
              "       'Rock', 'Rock', 'Rock', 'Rock', 'Rock', 'Rock', 'Rock', 'Rock',\n",
              "       'Rock', 'Rock', 'Rock', 'Rock', 'Pop', 'Rock', 'Rock', 'Rock',\n",
              "       'Rock', 'Rock', 'Rock', 'Rock', 'Rock', 'Rock', 'Rock', 'Rock',\n",
              "       'Rock', 'Rock', 'Rock', 'Rock', 'Classical music', 'Rock',\n",
              "       'Classical music', 'Rock', 'Rock', 'Rock', 'Rock', 'Rock', 'Pop',\n",
              "       'Rock', 'Classical music', 'Rock', 'Rock', 'Rock', 'Pop', 'Rock',\n",
              "       'Rock', 'Rock', 'Rock', 'Rock', 'Rock', 'Rock', 'Rock', 'Rock',\n",
              "       'Rock', 'Rock', 'Pop', 'Rock', 'Rock', 'Rock', 'Pop', 'Rock',\n",
              "       'Rock', 'Classical music', 'Rock', 'Rock', 'Rock', 'Rock', 'Rock',\n",
              "       'Rock', 'Classical music', 'Rock', 'Rock', 'Rock', 'Rock', 'Rock',\n",
              "       'Rock', 'Rock', 'Pop', 'Rock', 'Pop', 'Rock', 'Rock', 'Rock',\n",
              "       'Rock', 'Rock', 'Rock', 'Rock', 'Rock', 'Rock', 'Rock', 'Rock',\n",
              "       'Rock', 'Rock', 'Pop', 'Pop', 'Rock', 'Rock', 'Rock', 'Pop', 'Pop',\n",
              "       'Rock', 'Rock', 'Rock', 'Rock', 'Rock', 'Rock', 'Rock'],\n",
              "      dtype=object)"
            ]
          },
          "metadata": {},
          "execution_count": 85
        }
      ]
    },
    {
      "cell_type": "code",
      "source": [
        "accuracy = accuracy_score(y_test, predictions)\n",
        "print('Model accuracy score with default hyperparameters: ')\n",
        "accuracy"
      ],
      "metadata": {
        "colab": {
          "base_uri": "https://localhost:8080/"
        },
        "id": "hvcE3FTltzT6",
        "outputId": "4b5bc6c9-15e9-4283-b5db-27b260f8779d"
      },
      "execution_count": 86,
      "outputs": [
        {
          "output_type": "stream",
          "name": "stdout",
          "text": [
            "Model accuracy score with default hyperparameters: \n"
          ]
        },
        {
          "output_type": "execute_result",
          "data": {
            "text/plain": [
              "0.11351351351351352"
            ]
          },
          "metadata": {},
          "execution_count": 86
        }
      ]
    },
    {
      "cell_type": "markdown",
      "source": [
        "Outliers in the dataset, so increase the C value. C=100"
      ],
      "metadata": {
        "id": "Tb3yMJZQ0pMX"
      }
    },
    {
      "cell_type": "code",
      "source": [
        "svc=SVC(C=100.0)"
      ],
      "metadata": {
        "id": "DVrcr-Nb09pF"
      },
      "execution_count": 88,
      "outputs": []
    },
    {
      "cell_type": "code",
      "source": [
        "svc.fit(X_train, y_train)"
      ],
      "metadata": {
        "colab": {
          "base_uri": "https://localhost:8080/"
        },
        "outputId": "112c49bb-fa80-41cc-ed7d-16b21788755c",
        "id": "ZNqmj2FE09pH"
      },
      "execution_count": 89,
      "outputs": [
        {
          "output_type": "stream",
          "name": "stderr",
          "text": [
            "/usr/local/lib/python3.8/dist-packages/sklearn/utils/validation.py:1688: FutureWarning: Feature names only support names that are all strings. Got feature names with dtypes: ['tuple']. An error will be raised in 1.2.\n",
            "  warnings.warn(\n"
          ]
        },
        {
          "output_type": "execute_result",
          "data": {
            "text/plain": [
              "SVC(C=100.0)"
            ]
          },
          "metadata": {},
          "execution_count": 89
        }
      ]
    },
    {
      "cell_type": "code",
      "source": [
        "y_prediction = svc.predict([[22,0]])\n",
        "y_prediction"
      ],
      "metadata": {
        "execution": {
          "iopub.status.busy": "2022-12-18T20:42:26.836090Z",
          "iopub.status.idle": "2022-12-18T20:42:26.836567Z"
        },
        "trusted": true,
        "colab": {
          "base_uri": "https://localhost:8080/"
        },
        "outputId": "9ef6b0d5-110c-4564-fac9-18d2babfbd55",
        "id": "6kiCtlbU09pI"
      },
      "execution_count": 90,
      "outputs": [
        {
          "output_type": "execute_result",
          "data": {
            "text/plain": [
              "array(['Dance'], dtype=object)"
            ]
          },
          "metadata": {},
          "execution_count": 90
        }
      ]
    },
    {
      "cell_type": "markdown",
      "source": [
        "The model was asked to predict the music preferrence of a 22-year-old female and the prediction was Dance."
      ],
      "metadata": {
        "id": "dmvZGCtj09pK"
      }
    },
    {
      "cell_type": "code",
      "source": [
        "y_prediction = svc.predict([[30,0]])\n",
        "y_prediction"
      ],
      "metadata": {
        "colab": {
          "base_uri": "https://localhost:8080/"
        },
        "outputId": "37aaef75-a066-4f97-d7ab-dbcbd9adf79f",
        "id": "Oshokw-i09pK"
      },
      "execution_count": 91,
      "outputs": [
        {
          "output_type": "execute_result",
          "data": {
            "text/plain": [
              "array(['Dance'], dtype=object)"
            ]
          },
          "metadata": {},
          "execution_count": 91
        }
      ]
    },
    {
      "cell_type": "markdown",
      "source": [
        "The model was asked to predict the music preferrence of a 30-year-old female and the prediction was Dance."
      ],
      "metadata": {
        "id": "sBdX94Xj09pL"
      }
    },
    {
      "cell_type": "markdown",
      "source": [
        "# Evaluation\n",
        "\n",
        "We want to evaluate the model on its predictions."
      ],
      "metadata": {
        "id": "HFRGqZpb09pL"
      }
    },
    {
      "cell_type": "code",
      "source": [
        "predictions= svc.predict(X_test)\n",
        "predictions"
      ],
      "metadata": {
        "colab": {
          "base_uri": "https://localhost:8080/"
        },
        "outputId": "b1d1ae0a-6336-4fb8-fc14-70f9fc0cee80",
        "id": "629_aN5O09pM"
      },
      "execution_count": 92,
      "outputs": [
        {
          "output_type": "stream",
          "name": "stderr",
          "text": [
            "/usr/local/lib/python3.8/dist-packages/sklearn/utils/validation.py:1688: FutureWarning: Feature names only support names that are all strings. Got feature names with dtypes: ['tuple']. An error will be raised in 1.2.\n",
            "  warnings.warn(\n"
          ]
        },
        {
          "output_type": "execute_result",
          "data": {
            "text/plain": [
              "array(['Rock', 'Rock', 'Rock', 'Rock', 'Pop', 'Rock', 'Hiphop, Rap',\n",
              "       'Hiphop, Rap', 'Pop', 'Rock', 'Hiphop, Rap', 'Rock', 'Rock', 'Pop',\n",
              "       'Pop', 'Rock', 'Hiphop, Rap', 'Rock', 'Rock', 'Rock', 'Rock',\n",
              "       'Rock', 'Classical music', 'Rock', 'Rock', 'Rock', 'Pop', 'Pop',\n",
              "       'Rock', 'Pop', 'Swing, Jazz', 'Rock', 'Rock', 'Pop', 'Pop', 'Rock',\n",
              "       'Pop', 'Rock', 'Rock', 'Rock', 'Rock', 'Rock', 'Rock', 'Rock',\n",
              "       'Rock', 'Rock', 'Pop', 'Rock', 'Rock', 'Rock', 'Pop', 'Rock',\n",
              "       'Swing, Jazz', 'Rock', 'Pop', 'Hiphop, Rap', 'Pop', 'Hiphop, Rap',\n",
              "       'Rock', 'Pop', 'Rock', 'Rock', 'Rock', 'Pop', 'Rock',\n",
              "       'Hiphop, Rap', 'Rock', 'Rock', 'Pop', 'Pop', 'Pop', 'Rock', 'Rock',\n",
              "       'Rock', 'Rock', 'Pop', 'Pop', 'Rock', 'Pop', 'Rock', 'Rock',\n",
              "       'Rock', 'Rock', 'Hiphop, Rap', 'Rock', 'Rock', 'Rock', 'Rock',\n",
              "       'Pop', 'Rock', 'Rock', 'Pop', 'Rock', 'Rock', 'Rock', 'Pop',\n",
              "       'Rock', 'Rock', 'Pop', 'Rock', 'Hiphop, Rap', 'Rock', 'Rock',\n",
              "       'Rock', 'Pop', 'Hiphop, Rap', 'Rock', 'Classical music', 'Rock',\n",
              "       'Classical music', 'Swing, Jazz', 'Rock', 'Rock', 'Rock', 'Rock',\n",
              "       'Pop', 'Rock', 'Classical music', 'Pop', 'Rock', 'Rock', 'Pop',\n",
              "       'Swing, Jazz', 'Rock', 'Rock', 'Rock', 'Hiphop, Rap',\n",
              "       'Hiphop, Rap', 'Rock', 'Rock', 'Rock', 'Rock', 'Rock', 'Pop',\n",
              "       'Rock', 'Rock', 'Rock', 'Pop', 'Rock', 'Rock', 'Musical', 'Rock',\n",
              "       'Rock', 'Rock', 'Rock', 'Rock', 'Rock', 'Classical music', 'Rock',\n",
              "       'Rock', 'Rock', 'Rock', 'Rock', 'Rock', 'Pop', 'Pop', 'Rock',\n",
              "       'Pop', 'Rock', 'Rock', 'Rock', 'Rock', 'Rock', 'Rock', 'Rock',\n",
              "       'Rock', 'Rock', 'Rock', 'Pop', 'Hiphop, Rap', 'Rock', 'Pop', 'Pop',\n",
              "       'Hiphop, Rap', 'Rock', 'Rock', 'Pop', 'Pop', 'Rock', 'Rock', 'Pop',\n",
              "       'Rock', 'Rock', 'Rock', 'Hiphop, Rap'], dtype=object)"
            ]
          },
          "metadata": {},
          "execution_count": 92
        }
      ]
    },
    {
      "cell_type": "code",
      "source": [
        "accuracy = accuracy_score(y_test, predictions)\n",
        "print('Model accuracy score with rbf kernel and C=100.0 : {0:0.4f}'. format(accuracy_score(y_test, predictions)))"
      ],
      "metadata": {
        "colab": {
          "base_uri": "https://localhost:8080/"
        },
        "outputId": "1bf3600d-70ca-400a-d494-63233cf43549",
        "id": "QOSBFxI709pM"
      },
      "execution_count": 97,
      "outputs": [
        {
          "output_type": "stream",
          "name": "stdout",
          "text": [
            "Model accuracy score with rbf kernel and C=100.0 : 0.0973\n"
          ]
        }
      ]
    },
    {
      "cell_type": "markdown",
      "source": [
        "The model has a very low accuracy. Consider adding more features"
      ],
      "metadata": {
        "id": "Lhisrr3c2ZmY"
      }
    },
    {
      "cell_type": "code",
      "source": [],
      "metadata": {
        "id": "baij9jP82v4N"
      },
      "execution_count": null,
      "outputs": []
    }
  ]
}