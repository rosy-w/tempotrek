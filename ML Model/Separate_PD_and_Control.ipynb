{
  "nbformat": 4,
  "nbformat_minor": 0,
  "metadata": {
    "colab": {
      "provenance": [],
      "mount_file_id": "14veA3jmS8PI_WClxTYsIljTvB8c1EkVU",
      "authorship_tag": "ABX9TyMy0BUDRynPBTFepWCupapV",
      "include_colab_link": true
    },
    "kernelspec": {
      "name": "python3",
      "display_name": "Python 3"
    },
    "language_info": {
      "name": "python"
    }
  },
  "cells": [
    {
      "cell_type": "markdown",
      "metadata": {
        "id": "view-in-github",
        "colab_type": "text"
      },
      "source": [
        "<a href=\"https://colab.research.google.com/github/rosywaruku/tempotrek/blob/master/ML%20Model/Separate_PD_and_Control.ipynb\" target=\"_parent\"><img src=\"https://colab.research.google.com/assets/colab-badge.svg\" alt=\"Open In Colab\"/></a>"
      ]
    },
    {
      "cell_type": "code",
      "execution_count": 28,
      "metadata": {
        "id": "szbT9PuXnURP"
      },
      "outputs": [],
      "source": [
        "import numpy as np \n",
        "import pandas as pd\n",
        "import os,tarfile, fnmatch,torch\n",
        "from datetime import datetime\n",
        "import seaborn as sns\n",
        "import matplotlib.pyplot as plt"
      ]
    },
    {
      "cell_type": "code",
      "source": [
        "from google.colab import drive\n",
        "\n",
        "%cd /content/drive/MyDrive/Tempotrek/MJFF-Dataset/Transformed-Data"
      ],
      "metadata": {
        "colab": {
          "base_uri": "https://localhost:8080/"
        },
        "id": "0UnHyyBunhM_",
        "outputId": "b63ae05f-722b-45b8-b757-07b941eb871f"
      },
      "execution_count": 29,
      "outputs": [
        {
          "output_type": "stream",
          "name": "stdout",
          "text": [
            "/content/drive/MyDrive/Tempotrek/MJFF-Dataset/Transformed-Data\n"
          ]
        }
      ]
    },
    {
      "cell_type": "code",
      "source": [
        "merged_co='/content/drive/MyDrive/Tempotrek/MJFF-Dataset/Transformed-Data/CSV_Merged/Merged_Co/'\n",
        "merged_pd='/content/drive/MyDrive/Tempotrek/MJFF-Dataset/Transformed-Data/CSV_Merged/Merged_PD/'\n",
        "\n",
        "#csv files for the control patients\n",
        "for file in os.listdir('CSV_Accel'):\n",
        "  filename= os.path.abspath(file)\n",
        "  if 'APPLE' in file:\n",
        "    torch.save(filename,merged_co+file)\n",
        "  elif 'DAFODIL' in file:\n",
        "    torch.save(filename,merged_co+file)\n",
        "  elif 'LILY' in file:\n",
        "    torch.save(filename,merged_co+file)\n",
        "  elif 'ORANGE' in file:\n",
        "    torch.save(filename,merged_co+file)\n",
        "  elif 'ROSE' in file:\n",
        "    torch.save(filename,merged_co+file)\n",
        "  elif 'SUNFLOWER' in file:\n",
        "    torch.save(filename,merged_co+file)\n",
        "  elif 'SWEETPEA' in file:\n",
        "    torch.save(filename,merged_co+file)\n",
        "  else:\n",
        "    pass"
      ],
      "metadata": {
        "id": "9L1HGnWNo3yE"
      },
      "execution_count": 34,
      "outputs": []
    },
    {
      "cell_type": "code",
      "source": [
        "#csv files for the PD patients\n",
        "\n",
        "for file in os.listdir('CSV_Accel'):\n",
        "  filename= os.path.abspath(file)\n",
        "  if 'CHERRY' in file:\n",
        "    torch.save(filename,merged_pd+file)\n",
        "  elif 'CROCUS' in file:\n",
        "    torch.save(filename,merged_pd+file)\n",
        "  elif 'DAISY' in file:\n",
        "    torch.save(filename,merged_pd+file)\n",
        "  elif 'FLOX' in file:\n",
        "    torch.save(filename,merged_pd+file)\n",
        "  elif 'IRIS' in file:\n",
        "    torch.save(filename,merged_pd+file)\n",
        "  elif 'MAPLE' in file:\n",
        "    torch.save(filename,merged_pd+file)\n",
        "  elif 'ORCHID' in file:\n",
        "    torch.save(filename,merged_pd+file)\n",
        "  elif 'PEONY' in file:\n",
        "    torch.save(filename,merged_pd+file)\n",
        "  elif 'VIOLET' in file:\n",
        "    torch.save(filename,merged_pd+file)  \n",
        "  else:\n",
        "    pass"
      ],
      "metadata": {
        "id": "4YKGoYCVr8XB"
      },
      "execution_count": 35,
      "outputs": []
    }
  ]
}