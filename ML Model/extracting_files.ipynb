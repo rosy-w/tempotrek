{
  "nbformat": 4,
  "nbformat_minor": 0,
  "metadata": {
    "colab": {
      "provenance": [],
      "mount_file_id": "1g6mSxTEYcQRRjDzpxJPttwtbAFQwwosj",
      "authorship_tag": "ABX9TyPlQ/g38+nggRTu/EwEQmJD",
      "include_colab_link": true
    },
    "kernelspec": {
      "name": "python3",
      "display_name": "Python 3"
    },
    "language_info": {
      "name": "python"
    }
  },
  "cells": [
    {
      "cell_type": "markdown",
      "metadata": {
        "id": "view-in-github",
        "colab_type": "text"
      },
      "source": [
        "<a href=\"https://colab.research.google.com/github/rosywaruku/tempotrek/blob/master/extracting_files.ipynb\" target=\"_parent\"><img src=\"https://colab.research.google.com/assets/colab-badge.svg\" alt=\"Open In Colab\"/></a>"
      ]
    },
    {
      "cell_type": "code",
      "source": [
        "import pandas as pd\n",
        "import os, tarfile\n",
        "from datetime import datetime\n",
        "import seaborn as sns\n",
        "import matplotlib.pyplot as plt"
      ],
      "metadata": {
        "id": "XYhvtk-pG5k4"
      },
      "execution_count": 1,
      "outputs": []
    },
    {
      "cell_type": "code",
      "execution_count": 2,
      "metadata": {
        "colab": {
          "base_uri": "https://localhost:8080/"
        },
        "id": "zdwnbHaf-Fez",
        "outputId": "638b6f35-3795-4e96-9b9d-f4a3d3d3923c"
      },
      "outputs": [
        {
          "output_type": "stream",
          "name": "stdout",
          "text": [
            "/content/drive/MyDrive/Tempotrek/MJFF-Dataset\n"
          ]
        }
      ],
      "source": [
        "from google.colab import drive\n",
        "\n",
        "%cd /content/drive/MyDrive/Tempotrek/MJFF-Dataset\n"
      ]
    },
    {
      "cell_type": "code",
      "source": [
        "for file in os.listdir():\n",
        "  print(file)"
      ],
      "metadata": {
        "colab": {
          "base_uri": "https://localhost:8080/"
        },
        "id": "qIA2b4A1_jd4",
        "outputId": "0df07a94-6e51-482f-e37e-e3a8b412aad5"
      },
      "execution_count": 3,
      "outputs": [
        {
          "output_type": "stream",
          "name": "stdout",
          "text": [
            "MJFF-Data\n",
            "MJFF-Data-Extracted\n"
          ]
        }
      ]
    },
    {
      "cell_type": "markdown",
      "source": [
        "###Extracting tar.bz2 files\n",
        "Create a for loop that extracts all the files listed above into the Extracted Data directory\n",
        "\n",
        "The MJFF-Data-Extracted contains the binary files and the folders \n"
      ],
      "metadata": {
        "id": "sDqkJI5aAG3s"
      }
    },
    {
      "cell_type": "code",
      "source": [
        "dir_name = '/content/drive/MyDrive/Tempotrek/MJFF-Dataset/MJFF-Data'\n",
        "new_dir_name = '/content/drive/MyDrive/Tempotrek/MJFF-Dataset/MJFF-Data-Extracted'\n",
        "extension = \".bz2\"\n",
        "\n",
        "os.chdir(dir_name) # change directory from working dir to dir with files\n",
        "\n",
        "for item in os.listdir(dir_name): # loop through items in dir\n",
        "    if item.endswith(extension): # check for \".bz2\" extension\n",
        "        file_name = os.path.abspath(item) # get full path of files\n",
        "        tar_ref = tarfile.open(file_name) # create tar file object\n",
        "        tar_ref.extractall(new_dir_name) # extract file to dir\n",
        "        tar_ref.close() # close file"
      ],
      "metadata": {
        "id": "Oh0CChYRKT0P"
      },
      "execution_count": 4,
      "outputs": []
    }
  ]
}
